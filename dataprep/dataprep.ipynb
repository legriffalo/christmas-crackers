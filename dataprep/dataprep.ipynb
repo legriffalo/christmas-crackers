{
 "cells": [
  {
   "cell_type": "code",
   "execution_count": 1,
   "metadata": {},
   "outputs": [],
   "source": [
    "import pandas as pd\n",
    "import numpy as np\n",
    "import os\n",
    "import sqlite3\n"
   ]
  },
  {
   "cell_type": "code",
   "execution_count": 2,
   "metadata": {},
   "outputs": [],
   "source": [
    "# load \n",
    "# j1 = pd.read_csv(r\"./jokesdata/jester_items.tsv\", sep = \"\\t\", names = [\"index\",\"joke\"])\n",
    "# j2 = pd.read_csv(r\"./jokesdata/shortjokes.csv\")\n",
    "j3 = pd.read_csv(r\"./jokesdata/reddit_dadjokes.csv\")\n",
    "# etc etc for sources"
   ]
  },
  {
   "cell_type": "code",
   "execution_count": 3,
   "metadata": {},
   "outputs": [
    {
     "data": {
      "text/plain": [
       "(216328, 5)"
      ]
     },
     "execution_count": 3,
     "metadata": {},
     "output_type": "execute_result"
    }
   ],
   "source": [
    "#check\n",
    "j3.head()\n",
    "j3.shape"
   ]
  },
  {
   "cell_type": "code",
   "execution_count": 10,
   "metadata": {},
   "outputs": [],
   "source": [
    "jokes = j3[\"joke\"]"
   ]
  },
  {
   "cell_type": "code",
   "execution_count": 11,
   "metadata": {},
   "outputs": [
    {
     "data": {
      "text/plain": [
       "pandas.core.series.Series"
      ]
     },
     "execution_count": 11,
     "metadata": {},
     "output_type": "execute_result"
    }
   ],
   "source": [
    "type(jokes)"
   ]
  },
  {
   "cell_type": "code",
   "execution_count": 12,
   "metadata": {},
   "outputs": [],
   "source": [
    "saved = pd.Series([])\n"
   ]
  },
  {
   "cell_type": "code",
   "execution_count": 13,
   "metadata": {},
   "outputs": [
    {
     "name": "stdout",
     "output_type": "stream",
     "text": [
      "Doctor: \"So, you're telling me that you have a problem with one of your ears. Are you sure?\" Me: \"YES Doctor,  I'm definite. \"\n",
      "A grizzly kept talking to me and annoyed me He was unbearable\n",
      "I rubbed mayonnaise on my eyes Oh fuck oh shit it hurts please help this is no joke it pains fuck help me already\n",
      "What do you say to encourage an asteroid? Go little rockstar.\n",
      "They always ask me why my mood is always negative Just multiply by -1 😉\n",
      "Recently I started working with horses It's a stable job.\n",
      "My favorite word is \"drool\" Just rolls off the tongue.\n",
      "Where’s a dogs favorite place to eat? At Woofle House\n",
      "Why don't oysters share their pearls? They're shellfish 🐚😂!\n",
      "What do you call two guys hanging out above a window? Kurt &amp; Rod\n",
      "Me: I'm not saying a word without my lawyer present! Police Officer: Umm, sir, you are the lawyer...  \n",
      "Me (Lawyer): So where's my present?!\n",
      "What is a visit to the dad joke factory called? Sighseeing\n",
      "Did you hear about the mentally unstable train conductor they arrested down in Mexico? He was a serial killer with Loco-motives.\n",
      "What would you call a diving dog? Scuba-doo.\n",
      "stopped session at 4\n"
     ]
    }
   ],
   "source": [
    "# saved = pd.Series([])\n",
    "for joke in jokes:\n",
    "    print(joke)\n",
    "    verdict = input(\"Verdict?\")\n",
    "    if verdict == \"x\":\n",
    "        print(f\"stopped session at {len(saved)}\")\n",
    "        break\n",
    "    elif verdict == \"1\":\n",
    "        #append to series of saved \n",
    "        saved.loc[len(saved)] = joke\n",
    "    os.system('cls' if os.name == 'nt' else 'clear')\n",
    "\n",
    "    \n",
    "\n"
   ]
  },
  {
   "cell_type": "code",
   "execution_count": 14,
   "metadata": {},
   "outputs": [
    {
     "data": {
      "text/plain": [
       "0    Doctor: \"So, you're telling me that you have a...\n",
       "1    A grizzly kept talking to me and annoyed me He...\n",
       "2    My favorite word is \"drool\" Just rolls off the...\n",
       "3    Why don't oysters share their pearls? They're ...\n",
       "dtype: object"
      ]
     },
     "execution_count": 14,
     "metadata": {},
     "output_type": "execute_result"
    }
   ],
   "source": [
    "saved"
   ]
  },
  {
   "cell_type": "code",
   "execution_count": null,
   "metadata": {},
   "outputs": [],
   "source": [
    "# join"
   ]
  },
  {
   "cell_type": "code",
   "execution_count": null,
   "metadata": {},
   "outputs": [],
   "source": [
    "# vet"
   ]
  }
 ],
 "metadata": {
  "kernelspec": {
   "display_name": "base",
   "language": "python",
   "name": "python3"
  },
  "language_info": {
   "codemirror_mode": {
    "name": "ipython",
    "version": 3
   },
   "file_extension": ".py",
   "mimetype": "text/x-python",
   "name": "python",
   "nbconvert_exporter": "python",
   "pygments_lexer": "ipython3",
   "version": "3.12.4"
  }
 },
 "nbformat": 4,
 "nbformat_minor": 2
}
